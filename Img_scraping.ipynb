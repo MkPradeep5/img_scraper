{
 "cells": [
  {
   "cell_type": "code",
   "execution_count": 1,
   "id": "9504c9c0-1d41-4b7f-90e9-655cf046901a",
   "metadata": {},
   "outputs": [],
   "source": [
    "import requests\n",
    "import logging\n",
    "import os\n",
    "from bs4 import BeautifulSoup\n",
    "from urllib.request import urlopen"
   ]
  },
  {
   "cell_type": "code",
   "execution_count": 2,
   "id": "660fb0e7-1a89-4328-a26c-f60ec18a84f8",
   "metadata": {},
   "outputs": [],
   "source": [
    "save_dir = \"images/\"\n",
    "if not os.path.exists(save_dir):\n",
    "    os.makedirs(save_dir)"
   ]
  },
  {
   "cell_type": "code",
   "execution_count": 35,
   "id": "06e4ab37-56c6-4e68-a8d6-f0ab47d9df5c",
   "metadata": {},
   "outputs": [],
   "source": [
    "query = \"Rohit Sharma\""
   ]
  },
  {
   "cell_type": "code",
   "execution_count": 36,
   "id": "21e371c1-8a72-4403-8b5c-db5600d5b770",
   "metadata": {},
   "outputs": [],
   "source": [
    "response = requests.get(f\"https://www.google.com/search?q={query}&sca_esv=5f0003e2fd26bb0c&tbm=isch&source=lnms&sa=X&ved=2ahUKEwjHv9zdvvuDAxWRTWwGHdAFBMkQ_AUoAnoECAIQBA&biw=1536&bih=738&dpr=1.25\")"
   ]
  },
  {
   "cell_type": "code",
   "execution_count": 37,
   "id": "9a3ef928-4a6a-44e7-8f34-aa9e4efaf822",
   "metadata": {},
   "outputs": [
    {
     "data": {
      "text/plain": [
       "<Response [200]>"
      ]
     },
     "execution_count": 37,
     "metadata": {},
     "output_type": "execute_result"
    }
   ],
   "source": [
    "response"
   ]
  },
  {
   "cell_type": "code",
   "execution_count": 38,
   "id": "e28038ca-bf10-4907-83f0-864809e5260f",
   "metadata": {},
   "outputs": [],
   "source": [
    "soup = BeautifulSoup(response.content, \"html.parser\")"
   ]
  },
  {
   "cell_type": "code",
   "execution_count": 39,
   "id": "75979e2d-477c-4011-9fd9-3b1a6e558cd5",
   "metadata": {},
   "outputs": [
    {
     "data": {
      "text/plain": [
       "<!DOCTYPE html PUBLIC \"-//WAPFORUM//DTD XHTML Mobile 1.0//EN\" \"http://www.wapforum.org/DTD/xhtml-mobile10.dtd\">\n",
       "<html lang=\"en-IN\" xmlns=\"http://www.w3.org/1999/xhtml\"><head><meta content=\"application/xhtml+xml; charset=utf-8\" http-equiv=\"Content-Type\"/><meta content=\"no-cache\" name=\"Cache-Control\"/><title>Rohit Sharma - Google Search</title><style>a{text-decoration:none;color:inherit}a:hover{text-decoration:underline}a img{border:0}body{font-family:arial,sans-serif;padding:8px;margin:0 auto;max-width:700px;min-width:240px;}.FbhRzb{border-left:thin solid #dadce0;border-right:thin solid #dadce0;border-top:thin solid #dadce0;height:40px;overflow:hidden}.n692Zd{margin-bottom:10px}.cvifge{height:40px;border-spacing:0}.QvGUP{height:40px;padding:0 8px 0 8px;vertical-align:top}.O4cRJf{height:40px;width:100%;padding:0;padding-right:16px}.O1ePr{height:40px;padding:0;vertical-align:top}.kgJEQe{height:36px;width:98px;vertical-align:top;margin-top:4px}.lXLRf{vertical-align:top}.MhzMZd{border:0;vertical-align:middle;font-size:14px;height:40px;padding:0;width:100%;padding-left:16px}.xB0fq{height:40px;border:none;font-size:14px;background-color:#1a73e8;color:#fff;padding:0 16px;margin:0;vertical-align:top;cursor:pointer}.xB0fq:focus{border:1px solid #1a73e8}.M7pB2{border:thin solid #dadce0;margin:0 0 3px 0;font-size:13px;font-weight:500;height:40px}.euZec{width:100%;height:40px;text-align:center;border-spacing:0}table.euZec td{padding:0;width:25%}.QIqI7{display:inline-block;padding-top:4px;font-weight:bold;color:#4285f4}.EY24We{border-bottom:2px solid #4285f4}.CsQyDc{display:inline-block;color:#70757a}.TuS8Ad{font-size:14px}.HddGcc{padding:8px;color:#70757a}.dzp8ae{font-weight:bold;color:#3c4043}.rEM8G{color:#70757a}.bookcf{table-layout:fixed;width:100%;border-spacing:0}.InWNIe{text-align:center}.uZgmoc{border:thin solid #dadce0;color:#70757a;font-size:14px;text-align:center;table-layout:fixed;width:100%}.frGj1b{display:block;padding:12px 0 12px 0;width:100%}.BnJWBc{text-align:center;padding:6px 0 13px 0;height:35px}.e3goi{vertical-align:top;padding:0;height:180px}.GpQGbf{margin:auto;border-collapse:collapse;border-spacing:0;width:100%}</style></head><body><style>.X6ZCif{color:#202124;font-size:11px;line-height:16px;display:inline-block;padding-top:2px;overflow:hidden;padding-bottom:4px;width:100%}.TwVfHd{border-radius:16px;border:thin solid #dadce0;display:inline-block;padding:8px 8px;margin-right:8px;margin-bottom:4px}.yekiAe{background-color:#dadce0}.jjVJ4e{width:100%}.ezO2md{border:thin solid #dadce0;padding:12px 16px 12px 16px;margin-bottom:10px;font-family:arial,sans-serif}.lIMUZd{font-family:arial,sans-serif}.RntSmf{border-spacing:0}.lgD2Tc{width:100%}.SpelHe{text-align:center}.SpelHe{position:relative}.deHqpb{bottom:0;left:0;margin:auto;position:absolute;right:0;top:0}.kCmkOe{position:relative}.ID6Z3b{background-image:url(https://www.gstatic.com/search_trustx/visibility_off_icon_p0-7d897bf44bafe5436baa9009e8716337.png);background-repeat:no-repeat;background-position:center;background-size:20px}.kCmkOe{width:162px;height:140px;line-height:140px;overflow:'hidden';text-align:center}.DS1iW{text-align:center;margin:auto;vertical-align:middle;max-width:162px;max-height:140px}.AlD19d{padding-top:2px;padding-bottom:8px;}.fYyStc{word-break:break-word}.ynsChf{display:block;white-space:nowrap;overflow:hidden;text-overflow:ellipsis}.Fj3V3b{color:#1967d2;font-size:14px;line-height:20px}.FrIlee{color:#202124;font-size:11px;line-height:16px}.F9iS2e{color:#70757a;font-size:11px;line-height:16px}.WMQ2Le{color:#70757a;font-size:12px;line-height:16px}.x3G5ab{color:#202124;font-size:12px;line-height:16px}.fuLhoc{color:#1967d2;font-size:16px;line-height:20px}.epoveb{font-size:24px;line-height:28px;font-weight:400;color:#202124}.dXDvrc{color:#0d652d;font-size:14px;line-height:20px;word-wrap:break-word}.dloBPe{font-weight:bold}.YVIcad{color:#70757a}.JkVVdd{color:#ea4335}.oXZRFd{color:#ea4335}.MQHtg{color:#fbbc04}.pyMRrb{color:#1e8e3e}.EtTZid{color:#1e8e3e}.M3vVJe{color:#1967d2}.qXLe6d{display:block}.NHQNef{font-style:italic}.Cb8Z7c{white-space:pre}a.ZWRArf{text-decoration:none}a .CVA68e:hover{text-decoration:underline}</style><div class=\"n692Zd\"><div class=\"BnJWBc\"><a class=\"lXLRf\" href=\"/?sa=X&amp;sca_esv=5f0003e2fd26bb0c&amp;biw=1536&amp;bih=738&amp;output=images&amp;ie=UTF-8&amp;tbm=isch&amp;ved=0ahUKEwjUyM_0vfyDAxXezDgGHesMAT0QPAgC\"><img alt=\"Google\" class=\"kgJEQe\" src=\"/images/branding/searchlogo/1x/googlelogo_desk_heirloom_color_150x55dp.gif\"/></a></div><div class=\"FbhRzb\"><form action=\"/search\"><input name=\"sca_esv\" type=\"hidden\" value=\"5f0003e2fd26bb0c\"/><input name=\"biw\" type=\"hidden\" value=\"1536\"/><input name=\"bih\" type=\"hidden\" value=\"738\"/><input name=\"ie\" type=\"hidden\" value=\"ISO-8859-1\"/><input name=\"tbm\" type=\"hidden\" value=\"isch\"/><input name=\"oq\" type=\"hidden\"/><input name=\"aqs\" type=\"hidden\"/><table class=\"cvifge\"><tr><td class=\"O4cRJf\"><input class=\"MhzMZd\" name=\"q\" type=\"text\" value=\"Rohit Sharma\"/></td><td class=\"O1ePr\"><input class=\"xB0fq\" type=\"submit\" value=\"Search\"/></td></tr></table></form></div><div class=\"M7pB2\"><table class=\"euZec\"><tbody><tr><td><a class=\"CsQyDc\" href=\"/search?q=Rohit+Sharma&amp;sca_esv=5f0003e2fd26bb0c&amp;biw=1536&amp;bih=738&amp;ie=UTF-8&amp;source=lnms&amp;sa=X&amp;ved=0ahUKEwjUyM_0vfyDAxXezDgGHesMAT0Q_AUIBCgA\">ALL</a></td><td><a class=\"CsQyDc\" href=\"/search?q=Rohit+Sharma&amp;sca_esv=5f0003e2fd26bb0c&amp;biw=1536&amp;bih=738&amp;ie=UTF-8&amp;tbm=nws&amp;source=lnms&amp;sa=X&amp;ved=0ahUKEwjUyM_0vfyDAxXezDgGHesMAT0Q_AUIBSgB\">NEWS</a></td><td class=\"EY24We\"><span class=\"QIqI7\">IMAGES</span></td><td><a class=\"CsQyDc\" href=\"/search?q=Rohit+Sharma&amp;sca_esv=5f0003e2fd26bb0c&amp;biw=1536&amp;bih=738&amp;ie=UTF-8&amp;tbm=vid&amp;source=lnms&amp;sa=X&amp;ved=0ahUKEwjUyM_0vfyDAxXezDgGHesMAT0Q_AUIBygD\">VIDEOS</a></td></tr></tbody></table></div></div><div class=\"X6ZCif\"><a class=\"TwVfHd\" href=\"/search?sca_esv=5f0003e2fd26bb0c&amp;biw=1536&amp;bih=738&amp;ie=UTF-8&amp;tbm=isch&amp;q=Rohit+Sharma&amp;chips=q:rohit+sharma,g_1:wallpaper&amp;sa=X&amp;ved=0ahUKEwjUyM_0vfyDAxXezDgGHesMAT0Q4lYICygA\">wallpaper</a><a class=\"TwVfHd\" href=\"/search?sca_esv=5f0003e2fd26bb0c&amp;biw=1536&amp;bih=738&amp;ie=UTF-8&amp;tbm=isch&amp;q=Rohit+Sharma&amp;chips=q:rohit+sharma,g_1:style&amp;sa=X&amp;ved=0ahUKEwjUyM_0vfyDAxXezDgGHesMAT0Q4lYIDCgB\">style</a><a class=\"TwVfHd\" href=\"/search?sca_esv=5f0003e2fd26bb0c&amp;biw=1536&amp;bih=738&amp;ie=UTF-8&amp;tbm=isch&amp;q=Rohit+Sharma&amp;chips=q:rohit+sharma,g_1:captain&amp;sa=X&amp;ved=0ahUKEwjUyM_0vfyDAxXezDgGHesMAT0Q4lYIDSgC\">captain</a><a class=\"TwVfHd\" href=\"/search?sca_esv=5f0003e2fd26bb0c&amp;biw=1536&amp;bih=738&amp;ie=UTF-8&amp;tbm=isch&amp;q=Rohit+Sharma&amp;chips=q:rohit+sharma,g_1:virat+kohli&amp;sa=X&amp;ved=0ahUKEwjUyM_0vfyDAxXezDgGHesMAT0Q4lYIDigD\">virat kohli</a><a class=\"TwVfHd\" href=\"/search?sca_esv=5f0003e2fd26bb0c&amp;biw=1536&amp;bih=738&amp;ie=UTF-8&amp;tbm=isch&amp;q=Rohit+Sharma&amp;chips=q:rohit+sharma,g_1:t20&amp;sa=X&amp;ved=0ahUKEwjUyM_0vfyDAxXezDgGHesMAT0Q4lYIDygE\">t20</a><a class=\"TwVfHd\" href=\"/search?sca_esv=5f0003e2fd26bb0c&amp;biw=1536&amp;bih=738&amp;ie=UTF-8&amp;tbm=isch&amp;q=Rohit+Sharma&amp;chips=q:rohit+sharma,g_1:instagram&amp;sa=X&amp;ved=0ahUKEwjUyM_0vfyDAxXezDgGHesMAT0Q4lYIECgF\">instagram</a><a class=\"TwVfHd\" href=\"/search?sca_esv=5f0003e2fd26bb0c&amp;biw=1536&amp;bih=738&amp;ie=UTF-8&amp;tbm=isch&amp;q=Rohit+Sharma&amp;chips=q:rohit+sharma,g_1:wedding&amp;sa=X&amp;ved=0ahUKEwjUyM_0vfyDAxXezDgGHesMAT0Q4lYIESgG\">wedding</a><a class=\"TwVfHd\" href=\"/search?sca_esv=5f0003e2fd26bb0c&amp;biw=1536&amp;bih=738&amp;ie=UTF-8&amp;tbm=isch&amp;q=Rohit+Sharma&amp;chips=q:rohit+sharma,g_1:birthday&amp;sa=X&amp;ved=0ahUKEwjUyM_0vfyDAxXezDgGHesMAT0Q4lYIEigH\">birthday</a><a class=\"TwVfHd\" href=\"/search?sca_esv=5f0003e2fd26bb0c&amp;biw=1536&amp;bih=738&amp;ie=UTF-8&amp;tbm=isch&amp;q=Rohit+Sharma&amp;chips=q:rohit+sharma,g_1:trophy&amp;sa=X&amp;ved=0ahUKEwjUyM_0vfyDAxXezDgGHesMAT0Q4lYIEygI\">trophy</a><a class=\"TwVfHd\" href=\"/search?sca_esv=5f0003e2fd26bb0c&amp;biw=1536&amp;bih=738&amp;ie=UTF-8&amp;tbm=isch&amp;q=Rohit+Sharma&amp;chips=q:rohit+sharma,g_1:sketch&amp;sa=X&amp;ved=0ahUKEwjUyM_0vfyDAxXezDgGHesMAT0Q4lYIFCgJ\">sketch</a></div><div><table class=\"GpQGbf\"><tr><td align=\"center\" class=\"e3goi\"><div class=\"jjVJ4e\"> <div> <div class=\"lIMUZd\"><div><table class=\"RntSmf\"><tr><td><a href=\"/url?q=https://m.timesofindia.com/life-style/health-fitness/web-stories/world-cup-2023-rohit-sharmas-diet-and-exercise-routine-is-inspiring/photostory/104349841.cms&amp;sa=U&amp;ved=2ahUKEwjUyM_0vfyDAxXezDgGHesMAT0QqoUBegQIBRAB&amp;usg=AOvVaw1gQMEkv7LJFZMcglivg4k-\"><div class=\"kCmkOe\"><img alt=\"\" class=\"DS1iW\" src=\"https://encrypted-tbn0.gstatic.com/images?q=tbn:ANd9GcTjxeXldOw5m21iWF1071B3mDJTY4iahHQoh2jfw47Q63EJt08HOcU1PBfdFSE&amp;s\"/></div></a></td></tr><tr><td><a href=\"/url?q=https://m.timesofindia.com/life-style/health-fitness/web-stories/world-cup-2023-rohit-sharmas-diet-and-exercise-routine-is-inspiring/photostory/104349841.cms&amp;sa=U&amp;ved=2ahUKEwjUyM_0vfyDAxXezDgGHesMAT0Qr4kDegQIBRAC&amp;usg=AOvVaw2PfxPGySPutDs0ELg4uj76\"><div class=\"AlD19d\"> <span class=\"qXLe6d x3G5ab\"> <span class=\"fYyStc\">Rohit Sharma's diet and...</span> </span> <span class=\"qXLe6d F9iS2e\"> <span class=\"fYyStc\">m.timesofindia.com</span> </span> </div></a></td></tr></table></div></div> </div> </div></td><td align=\"center\" class=\"e3goi\"><div class=\"jjVJ4e\"> <div> <div class=\"lIMUZd\"><div><table class=\"RntSmf\"><tr><td><a href=\"/url?q=https://sports.ndtv.com/india-vs-england-2024/i-dont-sit-in-office-rohit-sharmas-straight-talk-on-england-stars-visa-row-4922759&amp;sa=U&amp;ved=2ahUKEwjUyM_0vfyDAxXezDgGHesMAT0QqoUBegQIEhAB&amp;usg=AOvVaw0U74h3h-c7EvJDCw-s7v8z\"><div class=\"kCmkOe\"><img alt=\"\" class=\"DS1iW\" src=\"https://encrypted-tbn0.gstatic.com/images?q=tbn:ANd9GcSoGdswcWGTL0N4LgfqAizt9n8yZfQ_owRuA95cnhAOB58TyV6O-wwADVdv1Kc&amp;s\"/></div></a></td></tr><tr><td><a href=\"/url?q=https://sports.ndtv.com/india-vs-england-2024/i-dont-sit-in-office-rohit-sharmas-straight-talk-on-england-stars-visa-row-4922759&amp;sa=U&amp;ved=2ahUKEwjUyM_0vfyDAxXezDgGHesMAT0Qr4kDegQIEhAC&amp;usg=AOvVaw39l6XaFAlWj58sueyN7YWx\"><div class=\"AlD19d\"> <span class=\"qXLe6d x3G5ab\"> <span class=\"fYyStc\">I Don't Sit In Visa...</span> </span> <span class=\"qXLe6d F9iS2e\"> <span class=\"fYyStc\">sports.ndtv.com</span> </span> </div></a></td></tr></table></div></div> </div> </div></td><td align=\"center\" class=\"e3goi\"><div class=\"jjVJ4e\"> <div> <div class=\"lIMUZd\"><div><table class=\"RntSmf\"><tr><td><a href=\"/url?q=https://timesofindia.indiatimes.com/rohit-sharma-joins-10000-odi-runs-club/photostory/103633126.cms&amp;sa=U&amp;ved=2ahUKEwjUyM_0vfyDAxXezDgGHesMAT0QqoUBegQIExAB&amp;usg=AOvVaw1_lbK0R58ICUlV3nZO38lx\"><div class=\"kCmkOe\"><img alt=\"\" class=\"DS1iW\" src=\"https://encrypted-tbn0.gstatic.com/images?q=tbn:ANd9GcTtkg3MEAPU_ihvFZV4-UE2Qu_i_999kxu4AYBnhq0S7RqNgbaQREeaucH6Dg&amp;s\"/></div></a></td></tr><tr><td><a href=\"/url?q=https://timesofindia.indiatimes.com/rohit-sharma-joins-10000-odi-runs-club/photostory/103633126.cms&amp;sa=U&amp;ved=2ahUKEwjUyM_0vfyDAxXezDgGHesMAT0Qr4kDegQIExAC&amp;usg=AOvVaw1eQLS8OQEAHdam7KnHzNqG\"><div class=\"AlD19d\"> <span class=\"qXLe6d x3G5ab\"> <span class=\"fYyStc\">Rohit Sharma joins 10,000...</span> </span> <span class=\"qXLe6d F9iS2e\"> <span class=\"fYyStc\">timesofindia.indiatimes.com...</span> </span> </div></a></td></tr></table></div></div> </div> </div></td><td align=\"center\" class=\"e3goi\"><div class=\"jjVJ4e\"> <div> <div class=\"lIMUZd\"><div><table class=\"RntSmf\"><tr><td><a href=\"/url?q=https://kmb.kerala.gov.in/ckeditor/samples/fonts/cricket/one-day-century-of-rohit-sharma/&amp;sa=U&amp;ved=2ahUKEwjUyM_0vfyDAxXezDgGHesMAT0QqoUBegQICRAB&amp;usg=AOvVaw1p9QCTfj_PioNUrYYoLgnM\"><div class=\"kCmkOe\"><img alt=\"\" class=\"DS1iW\" src=\"https://encrypted-tbn0.gstatic.com/images?q=tbn:ANd9GcQXz3tf1fEHeGX85f23cp-LU8V84Zgf48pdJYcGjeGP6KAzx_o4ucN4k_vtdKk&amp;s\"/></div></a></td></tr><tr><td><a href=\"/url?q=https://kmb.kerala.gov.in/ckeditor/samples/fonts/cricket/one-day-century-of-rohit-sharma/&amp;sa=U&amp;ved=2ahUKEwjUyM_0vfyDAxXezDgGHesMAT0Qr4kDegQICRAC&amp;usg=AOvVaw2qTfr85tlsMYKFOD1I8trh\"><div class=\"AlD19d\"> <span class=\"qXLe6d x3G5ab\"> <span class=\"fYyStc\">One Day Century Of Rohit...</span> </span> <span class=\"qXLe6d F9iS2e\"> <span class=\"fYyStc\">kmb.kerala.gov.in</span> </span> </div></a></td></tr></table></div></div> </div> </div></td></tr><tr><td align=\"center\" class=\"e3goi\"><div class=\"jjVJ4e\"> <div> <div class=\"lIMUZd\"><div><table class=\"RntSmf\"><tr><td><a href=\"/url?q=https://www.timesnownews.com/sports/cricket/-because-weve-a-good-team-rohit-sharma-says-india-desperate-to-win-wc-article-102627629&amp;sa=U&amp;ved=2ahUKEwjUyM_0vfyDAxXezDgGHesMAT0QqoUBegQIDRAB&amp;usg=AOvVaw28uXKZ6byrVpK_nnXmydk-\"><div class=\"kCmkOe\"><img alt=\"\" class=\"DS1iW\" src=\"https://encrypted-tbn0.gstatic.com/images?q=tbn:ANd9GcRKvVuUIwQWFxfktbBH0Jb24gbbZrMdsBSMMyVsE3iJW8XFjqEbgmzvcwwzxA&amp;s\"/></div></a></td></tr><tr><td><a href=\"/url?q=https://www.timesnownews.com/sports/cricket/-because-weve-a-good-team-rohit-sharma-says-india-desperate-to-win-wc-article-102627629&amp;sa=U&amp;ved=2ahUKEwjUyM_0vfyDAxXezDgGHesMAT0Qr4kDegQIDRAC&amp;usg=AOvVaw3W6tw_uPR7XpiRE2lvgtdj\"><div class=\"AlD19d\"> <span class=\"qXLe6d x3G5ab\"> <span class=\"fYyStc\">Because We've A Good Team:...</span> </span> <span class=\"qXLe6d F9iS2e\"> <span class=\"fYyStc\">www.timesnownews.com</span> </span> </div></a></td></tr></table></div></div> </div> </div></td><td align=\"center\" class=\"e3goi\"><div class=\"jjVJ4e\"> <div> <div class=\"lIMUZd\"><div><table class=\"RntSmf\"><tr><td><a href=\"/url?q=https://www.indiatoday.in/sports/cricket/story/rohit-sharma-captaincy-mantra-numbers-overrated-world-cup-century-2493504-2024-01-25&amp;sa=U&amp;ved=2ahUKEwjUyM_0vfyDAxXezDgGHesMAT0QqoUBegQIEBAB&amp;usg=AOvVaw3Ps6GNkIl_plqr7nMfmRUW\"><div class=\"kCmkOe\"><img alt=\"\" class=\"DS1iW\" src=\"https://encrypted-tbn0.gstatic.com/images?q=tbn:ANd9GcRLHGDP25L_MfU4-9oyxiUZWvPZU41voNSw-wechevZFmdNlqeZ0mP6h8U28gc&amp;s\"/></div></a></td></tr><tr><td><a href=\"/url?q=https://www.indiatoday.in/sports/cricket/story/rohit-sharma-captaincy-mantra-numbers-overrated-world-cup-century-2493504-2024-01-25&amp;sa=U&amp;ved=2ahUKEwjUyM_0vfyDAxXezDgGHesMAT0Qr4kDegQIEBAC&amp;usg=AOvVaw09Wo9TGcNe_Lsa23zNUHBD\"><div class=\"AlD19d\"> <span class=\"qXLe6d x3G5ab\"> <span class=\"fYyStc\">Rohit Sharma reveals his...</span> </span> <span class=\"qXLe6d F9iS2e\"> <span class=\"fYyStc\">www.indiatoday.in</span> </span> </div></a></td></tr></table></div></div> </div> </div></td><td align=\"center\" class=\"e3goi\"><div class=\"jjVJ4e\"> <div> <div class=\"lIMUZd\"><div><table class=\"RntSmf\"><tr><td><a href=\"/url?q=https://www.hindustantimes.com/cricket/rampaging-rohit-sharma-the-right-man-after-all-to-lead-india-at-t20-word-cup-101705551501299.html&amp;sa=U&amp;ved=2ahUKEwjUyM_0vfyDAxXezDgGHesMAT0QqoUBegQIDBAB&amp;usg=AOvVaw25ir9cei1mWXnZlywEWG1w\"><div class=\"kCmkOe\"><img alt=\"\" class=\"DS1iW\" src=\"https://encrypted-tbn0.gstatic.com/images?q=tbn:ANd9GcQz6AKNKzs4MnBMr5-iNUIAJ6MGhNN0H7Jk7zDkrTPeEtGDjf0i14FnGIHKs7I&amp;s\"/></div></a></td></tr><tr><td><a href=\"/url?q=https://www.hindustantimes.com/cricket/rampaging-rohit-sharma-the-right-man-after-all-to-lead-india-at-t20-word-cup-101705551501299.html&amp;sa=U&amp;ved=2ahUKEwjUyM_0vfyDAxXezDgGHesMAT0Qr4kDegQIDBAC&amp;usg=AOvVaw1_X_XqOKjKN5E01RW4PmgN\"><div class=\"AlD19d\"> <span class=\"qXLe6d x3G5ab\"> <span class=\"fYyStc\">Rampaging Rohit Sharma the...</span> </span> <span class=\"qXLe6d F9iS2e\"> <span class=\"fYyStc\">www.hindustantimes.com</span> </span> </div></a></td></tr></table></div></div> </div> </div></td><td align=\"center\" class=\"e3goi\"><div class=\"jjVJ4e\"> <div> <div class=\"lIMUZd\"><div><table class=\"RntSmf\"><tr><td><a href=\"/url?q=https://www.abplive.com/sports/cricket/rohit-sharma-become-4th-highest-run-scorer-for-indian-cricket-team-international-cricket-ind-vs-eng-2595979&amp;sa=U&amp;ved=2ahUKEwjUyM_0vfyDAxXezDgGHesMAT0QqoUBegQICxAB&amp;usg=AOvVaw05eWttQdzawt1eKSEq03gB\"><div class=\"kCmkOe\"><img alt=\"\" class=\"DS1iW\" src=\"https://encrypted-tbn0.gstatic.com/images?q=tbn:ANd9GcSDJ09EjBA-xx2P6plbkd6doDP7cwINMGzbl-CiqDNVyJp0-_nzoxvdGQhTyL4&amp;s\"/></div></a></td></tr><tr><td><a href=\"/url?q=https://www.abplive.com/sports/cricket/rohit-sharma-become-4th-highest-run-scorer-for-indian-cricket-team-international-cricket-ind-vs-eng-2595979&amp;sa=U&amp;ved=2ahUKEwjUyM_0vfyDAxXezDgGHesMAT0Qr4kDegQICxAC&amp;usg=AOvVaw1i2rWADcJ9uopRnW32PN6D\"><div class=\"AlD19d\"> <span class=\"qXLe6d x3G5ab\"> <span class=\"fYyStc\">Rohit Sharma Become 4th...</span> </span> <span class=\"qXLe6d F9iS2e\"> <span class=\"fYyStc\">www.abplive.com</span> </span> </div></a></td></tr></table></div></div> </div> </div></td></tr><tr><td align=\"center\" class=\"e3goi\"><div class=\"jjVJ4e\"> <div> <div class=\"lIMUZd\"><div><table class=\"RntSmf\"><tr><td><a href=\"/url?q=https://m.rediff.com/cricket/report/world-cup-2023-is-rohit-sharma-feeling-the-pressure/20231102.htm&amp;sa=U&amp;ved=2ahUKEwjUyM_0vfyDAxXezDgGHesMAT0QqoUBegQIDhAB&amp;usg=AOvVaw2pnPzgcXSVHzMEiKODcu_Z\"><div class=\"kCmkOe\"><img alt=\"\" class=\"DS1iW\" src=\"https://encrypted-tbn0.gstatic.com/images?q=tbn:ANd9GcSpmrDZ5auIWoSmKEz-o0QyBdmzFDjqWQ0ZAw-BwCjk5J8eOHwv--H_Ndzc3lU&amp;s\"/></div></a></td></tr><tr><td><a href=\"/url?q=https://m.rediff.com/cricket/report/world-cup-2023-is-rohit-sharma-feeling-the-pressure/20231102.htm&amp;sa=U&amp;ved=2ahUKEwjUyM_0vfyDAxXezDgGHesMAT0Qr4kDegQIDhAC&amp;usg=AOvVaw1NbCjsykfjFBVrjTHFN3yh\"><div class=\"AlD19d\"> <span class=\"qXLe6d x3G5ab\"> <span class=\"fYyStc\">World Cup 2023: Is Rohit...</span> </span> <span class=\"qXLe6d F9iS2e\"> <span class=\"fYyStc\">m.rediff.com</span> </span> </div></a></td></tr></table></div></div> </div> </div></td><td align=\"center\" class=\"e3goi\"><div class=\"jjVJ4e\"> <div> <div class=\"lIMUZd\"><div><table class=\"RntSmf\"><tr><td><a href=\"/url?q=https://twitter.com/ImRo45&amp;sa=U&amp;ved=2ahUKEwjUyM_0vfyDAxXezDgGHesMAT0QqoUBegQIDxAB&amp;usg=AOvVaw2U-zLHb4OmLDMn26yIw2H2\"><div class=\"kCmkOe\"><img alt=\"\" class=\"DS1iW\" src=\"https://encrypted-tbn0.gstatic.com/images?q=tbn:ANd9GcRqOaUFs4MNZ-LWjCLnvE1wIcvcfXWXjgkh0JvgHHIvt5kCbhpoZS2upmdfmg&amp;s\"/></div></a></td></tr><tr><td><a href=\"/url?q=https://twitter.com/ImRo45&amp;sa=U&amp;ved=2ahUKEwjUyM_0vfyDAxXezDgGHesMAT0Qr4kDegQIDxAC&amp;usg=AOvVaw3_Sb8x4SmgPkBM3mc8RQo0\"><div class=\"AlD19d\"> <span class=\"qXLe6d x3G5ab\"> <span class=\"fYyStc\">Rohit Sharma (@ImRo45) / X</span> </span> <span class=\"qXLe6d F9iS2e\"> <span class=\"fYyStc\">twitter.com</span> </span> </div></a></td></tr></table></div></div> </div> </div></td><td align=\"center\" class=\"e3goi\"><div class=\"jjVJ4e\"> <div> <div class=\"lIMUZd\"><div><table class=\"RntSmf\"><tr><td><a href=\"/url?q=https://www.timesnownews.com/sports/cricket/rohit-sharma-fan-breaches-security-runs-on-field-to-hug-indian-captain-watch-article-107143835&amp;sa=U&amp;ved=2ahUKEwjUyM_0vfyDAxXezDgGHesMAT0QqoUBegQIChAB&amp;usg=AOvVaw1WOtTq5diNujeYofiNmya9\"><div class=\"kCmkOe\"><img alt=\"\" class=\"DS1iW\" src=\"https://encrypted-tbn0.gstatic.com/images?q=tbn:ANd9GcQcRpsXB_KP54j2BtrByAdnilMxduMFnvZ7ctf5nCHRR46uvDpXva8zDRcKoc8&amp;s\"/></div></a></td></tr><tr><td><a href=\"/url?q=https://www.timesnownews.com/sports/cricket/rohit-sharma-fan-breaches-security-runs-on-field-to-hug-indian-captain-watch-article-107143835&amp;sa=U&amp;ved=2ahUKEwjUyM_0vfyDAxXezDgGHesMAT0Qr4kDegQIChAC&amp;usg=AOvVaw0_VQVqyIHI5oUxWFPSQZmw\"><div class=\"AlD19d\"> <span class=\"qXLe6d x3G5ab\"> <span class=\"fYyStc\">Rohit Sharma: Rohit Sharma...</span> </span> <span class=\"qXLe6d F9iS2e\"> <span class=\"fYyStc\">www.timesnownews.com</span> </span> </div></a></td></tr></table></div></div> </div> </div></td><td align=\"center\" class=\"e3goi\"><div class=\"jjVJ4e\"> <div> <div class=\"lIMUZd\"><div><table class=\"RntSmf\"><tr><td><a href=\"/url?q=https://en.wikipedia.org/wiki/Rohit_Sharma&amp;sa=U&amp;ved=2ahUKEwjUyM_0vfyDAxXezDgGHesMAT0QqoUBegQIERAB&amp;usg=AOvVaw2DSLY4MtRU6X_Jo7k8Johe\"><div class=\"kCmkOe\"><img alt=\"\" class=\"DS1iW\" src=\"https://encrypted-tbn0.gstatic.com/images?q=tbn:ANd9GcQNSTQMN5z-Q2Lr8Hb06STzc1G0dqzFEa48CRVf591UPNBk8bsy1hb7TdBOzw&amp;s\"/></div></a></td></tr><tr><td><a href=\"/url?q=https://en.wikipedia.org/wiki/Rohit_Sharma&amp;sa=U&amp;ved=2ahUKEwjUyM_0vfyDAxXezDgGHesMAT0Qr4kDegQIERAC&amp;usg=AOvVaw16_mddez7IN2FFKbdHenIQ\"><div class=\"AlD19d\"> <span class=\"qXLe6d x3G5ab\"> <span class=\"fYyStc\">Rohit Sharma - Wikipedia</span> </span> <span class=\"qXLe6d F9iS2e\"> <span class=\"fYyStc\">en.wikipedia.org</span> </span> </div></a></td></tr></table></div></div> </div> </div></td></tr><tr><td align=\"center\" class=\"e3goi\"><div class=\"jjVJ4e\"> <div> <div class=\"lIMUZd\"><div><table class=\"RntSmf\"><tr><td><a href=\"/url?q=https://kmb.kerala.gov.in/ckeditor/samples/fonts/cricket/rohit-sharma-total-half-centuries/&amp;sa=U&amp;ved=2ahUKEwjUyM_0vfyDAxXezDgGHesMAT0QqoUBegQIABAB&amp;usg=AOvVaw1nONaIJ47CKbvhLIVGSAeH\"><div class=\"kCmkOe\"><img alt=\"\" class=\"DS1iW\" src=\"https://encrypted-tbn0.gstatic.com/images?q=tbn:ANd9GcTmsC6MjBwLEBFEGeFTjjhnJCTGRh6knu0yKsDRvqPJWlxHX3DlicN22gMBuQ&amp;s\"/></div></a></td></tr><tr><td><a href=\"/url?q=https://kmb.kerala.gov.in/ckeditor/samples/fonts/cricket/rohit-sharma-total-half-centuries/&amp;sa=U&amp;ved=2ahUKEwjUyM_0vfyDAxXezDgGHesMAT0Qr4kDegQIABAC&amp;usg=AOvVaw08S7lSE34F9x0H0G7lo8OC\"><div class=\"AlD19d\"> <span class=\"qXLe6d x3G5ab\"> <span class=\"fYyStc\">Rohit Sharma Total Half...</span> </span> <span class=\"qXLe6d F9iS2e\"> <span class=\"fYyStc\">kmb.kerala.gov.in</span> </span> </div></a></td></tr></table></div></div> </div> </div></td><td align=\"center\" class=\"e3goi\"><div class=\"jjVJ4e\"> <div> <div class=\"lIMUZd\"><div><table class=\"RntSmf\"><tr><td><a href=\"/url?q=https://m.economictimes.com/news/sports/no-captaincy-could-be-good-for-rohit-sharma/articleshow/106052056.cms&amp;sa=U&amp;ved=2ahUKEwjUyM_0vfyDAxXezDgGHesMAT0QqoUBegQIAhAB&amp;usg=AOvVaw2JB0YS5fgIPuhvLUgrSgjB\"><div class=\"kCmkOe\"><img alt=\"\" class=\"DS1iW\" src=\"https://encrypted-tbn0.gstatic.com/images?q=tbn:ANd9GcQTm8LY7jzdRc0bLHjn2CBwxVHCW5te9iiyQjzETctghB_jM1fhfKAJgfFdPnM&amp;s\"/></div></a></td></tr><tr><td><a href=\"/url?q=https://m.economictimes.com/news/sports/no-captaincy-could-be-good-for-rohit-sharma/articleshow/106052056.cms&amp;sa=U&amp;ved=2ahUKEwjUyM_0vfyDAxXezDgGHesMAT0Qr4kDegQIAhAC&amp;usg=AOvVaw1zeDSYLok8ZDKlqp5ulpT4\"><div class=\"AlD19d\"> <span class=\"qXLe6d x3G5ab\"> <span class=\"fYyStc\">No captaincy could be good...</span> </span> <span class=\"qXLe6d F9iS2e\"> <span class=\"fYyStc\">m.economictimes.com</span> </span> </div></a></td></tr></table></div></div> </div> </div></td><td align=\"center\" class=\"e3goi\"><div class=\"jjVJ4e\"> <div> <div class=\"lIMUZd\"><div><table class=\"RntSmf\"><tr><td><a href=\"/url?q=https://timesofindia.indiatimes.com/sports/cricket/england-in-india/we-got-the-guys-to-do-the-job-for-us-rohit-sharma/articleshow/107132515.cms&amp;sa=U&amp;ved=2ahUKEwjUyM_0vfyDAxXezDgGHesMAT0QqoUBegQIBBAB&amp;usg=AOvVaw32CxHY83JMlkBruhkGXRmp\"><div class=\"kCmkOe\"><img alt=\"\" class=\"DS1iW\" src=\"https://encrypted-tbn0.gstatic.com/images?q=tbn:ANd9GcToN6qCovkFBZT1iIfdOel0B8jXR4eF9cNMlBk5xC_xDcZSOTBl5gm9piyo-yY&amp;s\"/></div></a></td></tr><tr><td><a href=\"/url?q=https://timesofindia.indiatimes.com/sports/cricket/england-in-india/we-got-the-guys-to-do-the-job-for-us-rohit-sharma/articleshow/107132515.cms&amp;sa=U&amp;ved=2ahUKEwjUyM_0vfyDAxXezDgGHesMAT0Qr4kDegQIBBAC&amp;usg=AOvVaw2NlvX83nCFxNFD2b2L7_OJ\"><div class=\"AlD19d\"> <span class=\"qXLe6d x3G5ab\"> <span class=\"fYyStc\">India Vs England: We got...</span> </span> <span class=\"qXLe6d F9iS2e\"> <span class=\"fYyStc\">timesofindia.indiatimes.com...</span> </span> </div></a></td></tr></table></div></div> </div> </div></td><td align=\"center\" class=\"e3goi\"><div class=\"jjVJ4e\"> <div> <div class=\"lIMUZd\"><div><table class=\"RntSmf\"><tr><td><a href=\"/url?q=https://www.timesnownews.com/web-stories/sports/5-indian-batters-with-more-odi-runs-than-rohit-sharma-virat-kohli-ms-dhoni-sachin-tendulkar/photostory/103614340.cms&amp;sa=U&amp;ved=2ahUKEwjUyM_0vfyDAxXezDgGHesMAT0QqoUBegQIBhAB&amp;usg=AOvVaw28DgggUWlifiwWn-WzoJq_\"><div class=\"kCmkOe\"><img alt=\"\" class=\"DS1iW\" src=\"https://encrypted-tbn0.gstatic.com/images?q=tbn:ANd9GcS5loB-Sgp_TrGA_fC0JZVMbWgQjWvaVHNaHbk4YRKrbruuZ_tDMjRxv-hNkqw&amp;s\"/></div></a></td></tr><tr><td><a href=\"/url?q=https://www.timesnownews.com/web-stories/sports/5-indian-batters-with-more-odi-runs-than-rohit-sharma-virat-kohli-ms-dhoni-sachin-tendulkar/photostory/103614340.cms&amp;sa=U&amp;ved=2ahUKEwjUyM_0vfyDAxXezDgGHesMAT0Qr4kDegQIBhAC&amp;usg=AOvVaw3RKqwIKw9aTYu9zgWo-PDq\"><div class=\"AlD19d\"> <span class=\"qXLe6d x3G5ab\"> <span class=\"fYyStc\">5 Indian Batters With More...</span> </span> <span class=\"qXLe6d F9iS2e\"> <span class=\"fYyStc\">www.timesnownews.com</span> </span> </div></a></td></tr></table></div></div> </div> </div></td></tr><tr><td align=\"center\" class=\"e3goi\"><div class=\"jjVJ4e\"> <div> <div class=\"lIMUZd\"><div><table class=\"RntSmf\"><tr><td><a href=\"/url?q=https://www.jagran.com/cricket/bouncer-ind-vs-eng-1st-test-rohit-sharma-breaks-sourav-ganguly-record-joins-sachin-tendulkar-virat-kohli-special-club-in-day1-23638347.html&amp;sa=U&amp;ved=2ahUKEwjUyM_0vfyDAxXezDgGHesMAT0QqoUBegQIBxAB&amp;usg=AOvVaw2hpXOHdmFr9y8oCj7jQCt7\"><div class=\"kCmkOe\"><img alt=\"\" class=\"DS1iW\" src=\"https://encrypted-tbn0.gstatic.com/images?q=tbn:ANd9GcRQN81b9refZhRFlOwNCEU9Q1pFupBnYFHTl0uEReXZe3OIKRKUjypTmX59LRs&amp;s\"/></div></a></td></tr><tr><td><a href=\"/url?q=https://www.jagran.com/cricket/bouncer-ind-vs-eng-1st-test-rohit-sharma-breaks-sourav-ganguly-record-joins-sachin-tendulkar-virat-kohli-special-club-in-day1-23638347.html&amp;sa=U&amp;ved=2ahUKEwjUyM_0vfyDAxXezDgGHesMAT0Qr4kDegQIBxAC&amp;usg=AOvVaw2um_gZZVjUuhbO4kRJuXYh\"><div class=\"AlD19d\"> <span class=\"qXLe6d x3G5ab\"> <span class=\"fYyStc\">IND vs ENG Test: हैदराबाद...</span> </span> <span class=\"qXLe6d F9iS2e\"> <span class=\"fYyStc\">www.jagran.com</span> </span> </div></a></td></tr></table></div></div> </div> </div></td><td align=\"center\" class=\"e3goi\"><div class=\"jjVJ4e\"> <div> <div class=\"lIMUZd\"><div><table class=\"RntSmf\"><tr><td><a href=\"/url?q=https://www.livemint.com/sports/cricket-news/india-vs-afghanistan-ashwin-level-thinking-rahul-dravid-reacts-to-rohit-sharma-retired-out-controversy-super-over-11705540110598.html&amp;sa=U&amp;ved=2ahUKEwjUyM_0vfyDAxXezDgGHesMAT0QqoUBegQIARAB&amp;usg=AOvVaw1g-wTtmrgBaqaaaU7pa_s4\"><div class=\"kCmkOe\"><img alt=\"\" class=\"DS1iW\" src=\"https://encrypted-tbn0.gstatic.com/images?q=tbn:ANd9GcS3bzu6P2UPaWcxewN-OaWjhHA1jI5DtOZ0KnPd6bsMiB96cyJzOJebzJdC3g&amp;s\"/></div></a></td></tr><tr><td><a href=\"/url?q=https://www.livemint.com/sports/cricket-news/india-vs-afghanistan-ashwin-level-thinking-rahul-dravid-reacts-to-rohit-sharma-retired-out-controversy-super-over-11705540110598.html&amp;sa=U&amp;ved=2ahUKEwjUyM_0vfyDAxXezDgGHesMAT0Qr4kDegQIARAC&amp;usg=AOvVaw0XJusa4OFzPBLHZsyyGTAL\"><div class=\"AlD19d\"> <span class=\"qXLe6d x3G5ab\"> <span class=\"fYyStc\">India vs Afghanistan:...</span> </span> <span class=\"qXLe6d F9iS2e\"> <span class=\"fYyStc\">www.livemint.com</span> </span> </div></a></td></tr></table></div></div> </div> </div></td><td align=\"center\" class=\"e3goi\"><div class=\"jjVJ4e\"> <div> <div class=\"lIMUZd\"><div><table class=\"RntSmf\"><tr><td><a href=\"/url?q=https://www.iplt20.com/teams/punjab-kings/squad-details/107&amp;sa=U&amp;ved=2ahUKEwjUyM_0vfyDAxXezDgGHesMAT0QqoUBegQICBAB&amp;usg=AOvVaw06hT-ov7vQK4JX1nSvlVBA\"><div class=\"kCmkOe\"><img alt=\"\" class=\"DS1iW\" src=\"https://encrypted-tbn0.gstatic.com/images?q=tbn:ANd9GcRUmlzJNhLKoG9jHp_S6IrO2G38oNtGQkfXA8YZSpFoLy7wDSA-6WmU24NQoxM&amp;s\"/></div></a></td></tr><tr><td><a href=\"/url?q=https://www.iplt20.com/teams/punjab-kings/squad-details/107&amp;sa=U&amp;ved=2ahUKEwjUyM_0vfyDAxXezDgGHesMAT0Qr4kDegQICBAC&amp;usg=AOvVaw3ME9jtaZzDcyznBM48ibSu\"><div class=\"AlD19d\"> <span class=\"qXLe6d x3G5ab\"> <span class=\"fYyStc\">Mens Team | IPLT20</span> </span> <span class=\"qXLe6d F9iS2e\"> <span class=\"fYyStc\">www.iplt20.com</span> </span> </div></a></td></tr></table></div></div> </div> </div></td><td align=\"center\" class=\"e3goi\"><div class=\"jjVJ4e\"> <div> <div class=\"lIMUZd\"><div><table class=\"RntSmf\"><tr><td><a href=\"/url?q=https://www.espncricinfo.com/cricketers/rohit-sharma-34102&amp;sa=U&amp;ved=2ahUKEwjUyM_0vfyDAxXezDgGHesMAT0QqoUBegQIAxAB&amp;usg=AOvVaw1950hyNy1AERL3KbJZP-Ed\"><div class=\"kCmkOe\"><img alt=\"\" class=\"DS1iW\" src=\"https://encrypted-tbn0.gstatic.com/images?q=tbn:ANd9GcS7DLHmLXexkYPxGUSwaVewmuElAZCV5JnsfXcMgdcM7aBsHrf5s_lgNx_OyA&amp;s\"/></div></a></td></tr><tr><td><a href=\"/url?q=https://www.espncricinfo.com/cricketers/rohit-sharma-34102&amp;sa=U&amp;ved=2ahUKEwjUyM_0vfyDAxXezDgGHesMAT0Qr4kDegQIAxAC&amp;usg=AOvVaw0k6xRuyS6TOPN7eHziR__f\"><div class=\"AlD19d\"> <span class=\"qXLe6d x3G5ab\"> <span class=\"fYyStc\">Rohit Sharma Profile -...</span> </span> <span class=\"qXLe6d F9iS2e\"> <span class=\"fYyStc\">www.espncricinfo.com</span> </span> </div></a></td></tr></table></div></div> </div> </div></td></tr></table></div><table class=\"uZgmoc\"><tbody><td><a class=\"frGj1b\" href=\"/search?q=Rohit+Sharma&amp;sca_esv=5f0003e2fd26bb0c&amp;biw=1536&amp;bih=738&amp;ie=UTF-8&amp;tbm=isch&amp;ei=SmW0ZdT7Hd6Z4-EP65mE6AM&amp;start=20&amp;sa=N\">Next &gt;</a></td></tbody></table><br/><div class=\"TuS8Ad\" data-ved=\"0ahUKEwjUyM_0vfyDAxXezDgGHesMAT0QpyoIUg\"><style>.VYM29{font-weight:bold}</style><div align=\"center\" class=\"HddGcc\"><span class=\"VYM29\">Hyderabad, Telangana</span><span> - </span><span>From your IP address</span><span> - </span><a href=\"/url?q=https://support.google.com/websearch%3Fp%3Dws_settings_location%26hl%3Den-IN&amp;opi=89978449&amp;sa=U&amp;ved=0ahUKEwjUyM_0vfyDAxXezDgGHesMAT0Qty4IUw&amp;usg=AOvVaw08WFfu5mJgnc14yQ0cGQa2\">Learn more</a></div><div align=\"center\"><a class=\"rEM8G\" href=\"/url?q=https://accounts.google.com/ServiceLogin%3Fcontinue%3Dhttps://www.google.com/search%253Fq%253DRohit%252BSharma%2526sca_esv%253D5f0003e2fd26bb0c%2526tbm%253Disch%2526source%253Dlnms%2526sa%253DX%2526ved%253D2ahUKEwjHv9zdvvuDAxWRTWwGHdAFBMkQ_AUoAnoECAIQBA%2526biw%253D1536%2526bih%253D738%2526dpr%253D1.25%26hl%3Den&amp;opi=89978449&amp;sa=U&amp;ved=0ahUKEwjUyM_0vfyDAxXezDgGHesMAT0Qxs8CCFQ&amp;usg=AOvVaw2DVHcaW-4c27NVs9kaMR0V\">Sign in</a></div><div><table class=\"bookcf\"><tbody class=\"InWNIe\"><tr><td><a class=\"rEM8G\" href=\"https://www.google.com/preferences?hl=en&amp;sa=X&amp;ved=0ahUKEwjUyM_0vfyDAxXezDgGHesMAT0Qv5YECFU\">Settings</a></td><td><a class=\"rEM8G\" href=\"https://www.google.com/intl/en_in/policies/privacy/\">Privacy</a></td><td><a class=\"rEM8G\" href=\"https://www.google.com/intl/en_in/policies/terms/\">Terms</a></td></tr></tbody></table></div></div><div> </div></body></html>"
      ]
     },
     "execution_count": 39,
     "metadata": {},
     "output_type": "execute_result"
    }
   ],
   "source": [
    "soup"
   ]
  },
  {
   "cell_type": "code",
   "execution_count": 40,
   "id": "607e4157-a965-4eb1-b93d-9e96ac0f817a",
   "metadata": {},
   "outputs": [],
   "source": [
    "img_tags = soup.find_all(\"img\")"
   ]
  },
  {
   "cell_type": "code",
   "execution_count": 60,
   "id": "18a11e5d-8831-4587-9541-0a311ed89096",
   "metadata": {},
   "outputs": [
    {
     "data": {
      "text/plain": [
       "bs4.element.ResultSet"
      ]
     },
     "execution_count": 60,
     "metadata": {},
     "output_type": "execute_result"
    }
   ],
   "source": [
    "type(img_tags)"
   ]
  },
  {
   "cell_type": "code",
   "execution_count": 41,
   "id": "edc80591-b9c9-462f-b8ff-70325fda41cf",
   "metadata": {},
   "outputs": [],
   "source": [
    "del img_tags[0]"
   ]
  },
  {
   "cell_type": "code",
   "execution_count": 42,
   "id": "ded0448a-efb8-4da0-8775-dd008bf4e388",
   "metadata": {},
   "outputs": [
    {
     "data": {
      "text/plain": [
       "[<img alt=\"\" class=\"DS1iW\" src=\"https://encrypted-tbn0.gstatic.com/images?q=tbn:ANd9GcTjxeXldOw5m21iWF1071B3mDJTY4iahHQoh2jfw47Q63EJt08HOcU1PBfdFSE&amp;s\"/>,\n",
       " <img alt=\"\" class=\"DS1iW\" src=\"https://encrypted-tbn0.gstatic.com/images?q=tbn:ANd9GcSoGdswcWGTL0N4LgfqAizt9n8yZfQ_owRuA95cnhAOB58TyV6O-wwADVdv1Kc&amp;s\"/>,\n",
       " <img alt=\"\" class=\"DS1iW\" src=\"https://encrypted-tbn0.gstatic.com/images?q=tbn:ANd9GcTtkg3MEAPU_ihvFZV4-UE2Qu_i_999kxu4AYBnhq0S7RqNgbaQREeaucH6Dg&amp;s\"/>,\n",
       " <img alt=\"\" class=\"DS1iW\" src=\"https://encrypted-tbn0.gstatic.com/images?q=tbn:ANd9GcQXz3tf1fEHeGX85f23cp-LU8V84Zgf48pdJYcGjeGP6KAzx_o4ucN4k_vtdKk&amp;s\"/>,\n",
       " <img alt=\"\" class=\"DS1iW\" src=\"https://encrypted-tbn0.gstatic.com/images?q=tbn:ANd9GcRKvVuUIwQWFxfktbBH0Jb24gbbZrMdsBSMMyVsE3iJW8XFjqEbgmzvcwwzxA&amp;s\"/>,\n",
       " <img alt=\"\" class=\"DS1iW\" src=\"https://encrypted-tbn0.gstatic.com/images?q=tbn:ANd9GcRLHGDP25L_MfU4-9oyxiUZWvPZU41voNSw-wechevZFmdNlqeZ0mP6h8U28gc&amp;s\"/>,\n",
       " <img alt=\"\" class=\"DS1iW\" src=\"https://encrypted-tbn0.gstatic.com/images?q=tbn:ANd9GcQz6AKNKzs4MnBMr5-iNUIAJ6MGhNN0H7Jk7zDkrTPeEtGDjf0i14FnGIHKs7I&amp;s\"/>,\n",
       " <img alt=\"\" class=\"DS1iW\" src=\"https://encrypted-tbn0.gstatic.com/images?q=tbn:ANd9GcSDJ09EjBA-xx2P6plbkd6doDP7cwINMGzbl-CiqDNVyJp0-_nzoxvdGQhTyL4&amp;s\"/>,\n",
       " <img alt=\"\" class=\"DS1iW\" src=\"https://encrypted-tbn0.gstatic.com/images?q=tbn:ANd9GcSpmrDZ5auIWoSmKEz-o0QyBdmzFDjqWQ0ZAw-BwCjk5J8eOHwv--H_Ndzc3lU&amp;s\"/>,\n",
       " <img alt=\"\" class=\"DS1iW\" src=\"https://encrypted-tbn0.gstatic.com/images?q=tbn:ANd9GcRqOaUFs4MNZ-LWjCLnvE1wIcvcfXWXjgkh0JvgHHIvt5kCbhpoZS2upmdfmg&amp;s\"/>,\n",
       " <img alt=\"\" class=\"DS1iW\" src=\"https://encrypted-tbn0.gstatic.com/images?q=tbn:ANd9GcQcRpsXB_KP54j2BtrByAdnilMxduMFnvZ7ctf5nCHRR46uvDpXva8zDRcKoc8&amp;s\"/>,\n",
       " <img alt=\"\" class=\"DS1iW\" src=\"https://encrypted-tbn0.gstatic.com/images?q=tbn:ANd9GcQNSTQMN5z-Q2Lr8Hb06STzc1G0dqzFEa48CRVf591UPNBk8bsy1hb7TdBOzw&amp;s\"/>,\n",
       " <img alt=\"\" class=\"DS1iW\" src=\"https://encrypted-tbn0.gstatic.com/images?q=tbn:ANd9GcTmsC6MjBwLEBFEGeFTjjhnJCTGRh6knu0yKsDRvqPJWlxHX3DlicN22gMBuQ&amp;s\"/>,\n",
       " <img alt=\"\" class=\"DS1iW\" src=\"https://encrypted-tbn0.gstatic.com/images?q=tbn:ANd9GcQTm8LY7jzdRc0bLHjn2CBwxVHCW5te9iiyQjzETctghB_jM1fhfKAJgfFdPnM&amp;s\"/>,\n",
       " <img alt=\"\" class=\"DS1iW\" src=\"https://encrypted-tbn0.gstatic.com/images?q=tbn:ANd9GcToN6qCovkFBZT1iIfdOel0B8jXR4eF9cNMlBk5xC_xDcZSOTBl5gm9piyo-yY&amp;s\"/>,\n",
       " <img alt=\"\" class=\"DS1iW\" src=\"https://encrypted-tbn0.gstatic.com/images?q=tbn:ANd9GcS5loB-Sgp_TrGA_fC0JZVMbWgQjWvaVHNaHbk4YRKrbruuZ_tDMjRxv-hNkqw&amp;s\"/>,\n",
       " <img alt=\"\" class=\"DS1iW\" src=\"https://encrypted-tbn0.gstatic.com/images?q=tbn:ANd9GcRQN81b9refZhRFlOwNCEU9Q1pFupBnYFHTl0uEReXZe3OIKRKUjypTmX59LRs&amp;s\"/>,\n",
       " <img alt=\"\" class=\"DS1iW\" src=\"https://encrypted-tbn0.gstatic.com/images?q=tbn:ANd9GcS3bzu6P2UPaWcxewN-OaWjhHA1jI5DtOZ0KnPd6bsMiB96cyJzOJebzJdC3g&amp;s\"/>,\n",
       " <img alt=\"\" class=\"DS1iW\" src=\"https://encrypted-tbn0.gstatic.com/images?q=tbn:ANd9GcRUmlzJNhLKoG9jHp_S6IrO2G38oNtGQkfXA8YZSpFoLy7wDSA-6WmU24NQoxM&amp;s\"/>,\n",
       " <img alt=\"\" class=\"DS1iW\" src=\"https://encrypted-tbn0.gstatic.com/images?q=tbn:ANd9GcS7DLHmLXexkYPxGUSwaVewmuElAZCV5JnsfXcMgdcM7aBsHrf5s_lgNx_OyA&amp;s\"/>]"
      ]
     },
     "execution_count": 42,
     "metadata": {},
     "output_type": "execute_result"
    }
   ],
   "source": [
    "img_tags"
   ]
  },
  {
   "cell_type": "code",
   "execution_count": 44,
   "id": "871d27e7-324e-40e8-96f2-584f7002f7b5",
   "metadata": {},
   "outputs": [
    {
     "data": {
      "text/plain": [
       "20"
      ]
     },
     "execution_count": 44,
     "metadata": {},
     "output_type": "execute_result"
    }
   ],
   "source": [
    "len(img_tags)"
   ]
  },
  {
   "cell_type": "code",
   "execution_count": 43,
   "id": "ed6b0e09-b7ba-4b58-94f5-8a43e4155d6d",
   "metadata": {},
   "outputs": [
    {
     "name": "stdout",
     "output_type": "stream",
     "text": [
      "https://encrypted-tbn0.gstatic.com/images?q=tbn:ANd9GcTjxeXldOw5m21iWF1071B3mDJTY4iahHQoh2jfw47Q63EJt08HOcU1PBfdFSE&s\n",
      "https://encrypted-tbn0.gstatic.com/images?q=tbn:ANd9GcSoGdswcWGTL0N4LgfqAizt9n8yZfQ_owRuA95cnhAOB58TyV6O-wwADVdv1Kc&s\n",
      "https://encrypted-tbn0.gstatic.com/images?q=tbn:ANd9GcTtkg3MEAPU_ihvFZV4-UE2Qu_i_999kxu4AYBnhq0S7RqNgbaQREeaucH6Dg&s\n",
      "https://encrypted-tbn0.gstatic.com/images?q=tbn:ANd9GcQXz3tf1fEHeGX85f23cp-LU8V84Zgf48pdJYcGjeGP6KAzx_o4ucN4k_vtdKk&s\n",
      "https://encrypted-tbn0.gstatic.com/images?q=tbn:ANd9GcRKvVuUIwQWFxfktbBH0Jb24gbbZrMdsBSMMyVsE3iJW8XFjqEbgmzvcwwzxA&s\n",
      "https://encrypted-tbn0.gstatic.com/images?q=tbn:ANd9GcRLHGDP25L_MfU4-9oyxiUZWvPZU41voNSw-wechevZFmdNlqeZ0mP6h8U28gc&s\n",
      "https://encrypted-tbn0.gstatic.com/images?q=tbn:ANd9GcQz6AKNKzs4MnBMr5-iNUIAJ6MGhNN0H7Jk7zDkrTPeEtGDjf0i14FnGIHKs7I&s\n",
      "https://encrypted-tbn0.gstatic.com/images?q=tbn:ANd9GcSDJ09EjBA-xx2P6plbkd6doDP7cwINMGzbl-CiqDNVyJp0-_nzoxvdGQhTyL4&s\n",
      "https://encrypted-tbn0.gstatic.com/images?q=tbn:ANd9GcSpmrDZ5auIWoSmKEz-o0QyBdmzFDjqWQ0ZAw-BwCjk5J8eOHwv--H_Ndzc3lU&s\n",
      "https://encrypted-tbn0.gstatic.com/images?q=tbn:ANd9GcRqOaUFs4MNZ-LWjCLnvE1wIcvcfXWXjgkh0JvgHHIvt5kCbhpoZS2upmdfmg&s\n",
      "https://encrypted-tbn0.gstatic.com/images?q=tbn:ANd9GcQcRpsXB_KP54j2BtrByAdnilMxduMFnvZ7ctf5nCHRR46uvDpXva8zDRcKoc8&s\n",
      "https://encrypted-tbn0.gstatic.com/images?q=tbn:ANd9GcQNSTQMN5z-Q2Lr8Hb06STzc1G0dqzFEa48CRVf591UPNBk8bsy1hb7TdBOzw&s\n",
      "https://encrypted-tbn0.gstatic.com/images?q=tbn:ANd9GcTmsC6MjBwLEBFEGeFTjjhnJCTGRh6knu0yKsDRvqPJWlxHX3DlicN22gMBuQ&s\n",
      "https://encrypted-tbn0.gstatic.com/images?q=tbn:ANd9GcQTm8LY7jzdRc0bLHjn2CBwxVHCW5te9iiyQjzETctghB_jM1fhfKAJgfFdPnM&s\n",
      "https://encrypted-tbn0.gstatic.com/images?q=tbn:ANd9GcToN6qCovkFBZT1iIfdOel0B8jXR4eF9cNMlBk5xC_xDcZSOTBl5gm9piyo-yY&s\n",
      "https://encrypted-tbn0.gstatic.com/images?q=tbn:ANd9GcS5loB-Sgp_TrGA_fC0JZVMbWgQjWvaVHNaHbk4YRKrbruuZ_tDMjRxv-hNkqw&s\n",
      "https://encrypted-tbn0.gstatic.com/images?q=tbn:ANd9GcRQN81b9refZhRFlOwNCEU9Q1pFupBnYFHTl0uEReXZe3OIKRKUjypTmX59LRs&s\n",
      "https://encrypted-tbn0.gstatic.com/images?q=tbn:ANd9GcS3bzu6P2UPaWcxewN-OaWjhHA1jI5DtOZ0KnPd6bsMiB96cyJzOJebzJdC3g&s\n",
      "https://encrypted-tbn0.gstatic.com/images?q=tbn:ANd9GcRUmlzJNhLKoG9jHp_S6IrO2G38oNtGQkfXA8YZSpFoLy7wDSA-6WmU24NQoxM&s\n",
      "https://encrypted-tbn0.gstatic.com/images?q=tbn:ANd9GcS7DLHmLXexkYPxGUSwaVewmuElAZCV5JnsfXcMgdcM7aBsHrf5s_lgNx_OyA&s\n"
     ]
    }
   ],
   "source": [
    "for i in img_tags:\n",
    "    print(i[\"src\"])"
   ]
  },
  {
   "cell_type": "code",
   "execution_count": 45,
   "id": "a7ab8d9c-f9e9-4a2f-b7dc-5a6276d143d3",
   "metadata": {},
   "outputs": [
    {
     "name": "stdout",
     "output_type": "stream",
     "text": [
      "0\n",
      "1\n",
      "2\n",
      "3\n",
      "4\n",
      "5\n",
      "6\n",
      "7\n",
      "8\n",
      "9\n",
      "10\n",
      "11\n",
      "12\n",
      "13\n",
      "14\n",
      "15\n",
      "16\n",
      "17\n",
      "18\n",
      "19\n"
     ]
    }
   ],
   "source": [
    "for i in img_tags:\n",
    "    print(img_tags.index(i))"
   ]
  },
  {
   "cell_type": "code",
   "execution_count": 46,
   "id": "73f07c7d-732f-4b1e-99b8-7f4803281e10",
   "metadata": {},
   "outputs": [],
   "source": [
    "for i in img_tags:\n",
    "    image_url = i[\"src\"]\n",
    "    image_data = requests.get(image_url).content\n",
    "    with open(os.path.join(save_dir,f\"{query}_{img_tags.index(i)}.jpg\"),\"wb\")as f:\n",
    "        f.write(image_data)\n",
    "    "
   ]
  },
  {
   "cell_type": "code",
   "execution_count": 59,
   "id": "1ae1716a-3ec2-4f5b-8f8e-8b8e30712282",
   "metadata": {},
   "outputs": [
    {
     "name": "stdout",
     "output_type": "stream",
     "text": [
      "<img alt=\"\" class=\"DS1iW\" src=\"https://encrypted-tbn0.gstatic.com/images?q=tbn:ANd9GcTjxeXldOw5m21iWF1071B3mDJTY4iahHQoh2jfw47Q63EJt08HOcU1PBfdFSE&amp;s\"/>\n",
      "<img alt=\"\" class=\"DS1iW\" src=\"https://encrypted-tbn0.gstatic.com/images?q=tbn:ANd9GcSoGdswcWGTL0N4LgfqAizt9n8yZfQ_owRuA95cnhAOB58TyV6O-wwADVdv1Kc&amp;s\"/>\n",
      "<img alt=\"\" class=\"DS1iW\" src=\"https://encrypted-tbn0.gstatic.com/images?q=tbn:ANd9GcTtkg3MEAPU_ihvFZV4-UE2Qu_i_999kxu4AYBnhq0S7RqNgbaQREeaucH6Dg&amp;s\"/>\n",
      "<img alt=\"\" class=\"DS1iW\" src=\"https://encrypted-tbn0.gstatic.com/images?q=tbn:ANd9GcQXz3tf1fEHeGX85f23cp-LU8V84Zgf48pdJYcGjeGP6KAzx_o4ucN4k_vtdKk&amp;s\"/>\n",
      "<img alt=\"\" class=\"DS1iW\" src=\"https://encrypted-tbn0.gstatic.com/images?q=tbn:ANd9GcRKvVuUIwQWFxfktbBH0Jb24gbbZrMdsBSMMyVsE3iJW8XFjqEbgmzvcwwzxA&amp;s\"/>\n",
      "<img alt=\"\" class=\"DS1iW\" src=\"https://encrypted-tbn0.gstatic.com/images?q=tbn:ANd9GcRLHGDP25L_MfU4-9oyxiUZWvPZU41voNSw-wechevZFmdNlqeZ0mP6h8U28gc&amp;s\"/>\n",
      "<img alt=\"\" class=\"DS1iW\" src=\"https://encrypted-tbn0.gstatic.com/images?q=tbn:ANd9GcQz6AKNKzs4MnBMr5-iNUIAJ6MGhNN0H7Jk7zDkrTPeEtGDjf0i14FnGIHKs7I&amp;s\"/>\n",
      "<img alt=\"\" class=\"DS1iW\" src=\"https://encrypted-tbn0.gstatic.com/images?q=tbn:ANd9GcSDJ09EjBA-xx2P6plbkd6doDP7cwINMGzbl-CiqDNVyJp0-_nzoxvdGQhTyL4&amp;s\"/>\n",
      "<img alt=\"\" class=\"DS1iW\" src=\"https://encrypted-tbn0.gstatic.com/images?q=tbn:ANd9GcSpmrDZ5auIWoSmKEz-o0QyBdmzFDjqWQ0ZAw-BwCjk5J8eOHwv--H_Ndzc3lU&amp;s\"/>\n",
      "<img alt=\"\" class=\"DS1iW\" src=\"https://encrypted-tbn0.gstatic.com/images?q=tbn:ANd9GcRqOaUFs4MNZ-LWjCLnvE1wIcvcfXWXjgkh0JvgHHIvt5kCbhpoZS2upmdfmg&amp;s\"/>\n",
      "<img alt=\"\" class=\"DS1iW\" src=\"https://encrypted-tbn0.gstatic.com/images?q=tbn:ANd9GcQcRpsXB_KP54j2BtrByAdnilMxduMFnvZ7ctf5nCHRR46uvDpXva8zDRcKoc8&amp;s\"/>\n",
      "<img alt=\"\" class=\"DS1iW\" src=\"https://encrypted-tbn0.gstatic.com/images?q=tbn:ANd9GcQNSTQMN5z-Q2Lr8Hb06STzc1G0dqzFEa48CRVf591UPNBk8bsy1hb7TdBOzw&amp;s\"/>\n",
      "<img alt=\"\" class=\"DS1iW\" src=\"https://encrypted-tbn0.gstatic.com/images?q=tbn:ANd9GcTmsC6MjBwLEBFEGeFTjjhnJCTGRh6knu0yKsDRvqPJWlxHX3DlicN22gMBuQ&amp;s\"/>\n",
      "<img alt=\"\" class=\"DS1iW\" src=\"https://encrypted-tbn0.gstatic.com/images?q=tbn:ANd9GcQTm8LY7jzdRc0bLHjn2CBwxVHCW5te9iiyQjzETctghB_jM1fhfKAJgfFdPnM&amp;s\"/>\n",
      "<img alt=\"\" class=\"DS1iW\" src=\"https://encrypted-tbn0.gstatic.com/images?q=tbn:ANd9GcToN6qCovkFBZT1iIfdOel0B8jXR4eF9cNMlBk5xC_xDcZSOTBl5gm9piyo-yY&amp;s\"/>\n",
      "<img alt=\"\" class=\"DS1iW\" src=\"https://encrypted-tbn0.gstatic.com/images?q=tbn:ANd9GcS5loB-Sgp_TrGA_fC0JZVMbWgQjWvaVHNaHbk4YRKrbruuZ_tDMjRxv-hNkqw&amp;s\"/>\n",
      "<img alt=\"\" class=\"DS1iW\" src=\"https://encrypted-tbn0.gstatic.com/images?q=tbn:ANd9GcRQN81b9refZhRFlOwNCEU9Q1pFupBnYFHTl0uEReXZe3OIKRKUjypTmX59LRs&amp;s\"/>\n",
      "<img alt=\"\" class=\"DS1iW\" src=\"https://encrypted-tbn0.gstatic.com/images?q=tbn:ANd9GcS3bzu6P2UPaWcxewN-OaWjhHA1jI5DtOZ0KnPd6bsMiB96cyJzOJebzJdC3g&amp;s\"/>\n",
      "<img alt=\"\" class=\"DS1iW\" src=\"https://encrypted-tbn0.gstatic.com/images?q=tbn:ANd9GcRUmlzJNhLKoG9jHp_S6IrO2G38oNtGQkfXA8YZSpFoLy7wDSA-6WmU24NQoxM&amp;s\"/>\n",
      "<img alt=\"\" class=\"DS1iW\" src=\"https://encrypted-tbn0.gstatic.com/images?q=tbn:ANd9GcS7DLHmLXexkYPxGUSwaVewmuElAZCV5JnsfXcMgdcM7aBsHrf5s_lgNx_OyA&amp;s\"/>\n"
     ]
    }
   ],
   "source": [
    "for i in img_tags:\n",
    "    print(i)"
   ]
  },
  {
   "cell_type": "code",
   "execution_count": null,
   "id": "4020b575-e248-4e18-bc42-3da4ccbe72e5",
   "metadata": {},
   "outputs": [],
   "source": []
  }
 ],
 "metadata": {
  "kernelspec": {
   "display_name": "Python 3 (ipykernel)",
   "language": "python",
   "name": "python3"
  },
  "language_info": {
   "codemirror_mode": {
    "name": "ipython",
    "version": 3
   },
   "file_extension": ".py",
   "mimetype": "text/x-python",
   "name": "python",
   "nbconvert_exporter": "python",
   "pygments_lexer": "ipython3",
   "version": "3.8.18"
  }
 },
 "nbformat": 4,
 "nbformat_minor": 5
}
